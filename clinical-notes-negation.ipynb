{
 "cells": [
  {
   "cell_type": "markdown",
   "metadata": {},
   "source": [
    "The objective is to identify the negations in clinical notes using Open Source Software (OSS) e.g. Spacy and NegSpacy"
   ]
  },
  {
   "cell_type": "markdown",
   "metadata": {},
   "source": [
    "Import the requisite libraries"
   ]
  },
  {
   "cell_type": "code",
   "execution_count": 8,
   "metadata": {},
   "outputs": [],
   "source": [
    "import spacy\n",
    "from negspacy.negation import Negex"
   ]
  },
  {
   "cell_type": "markdown",
   "metadata": {},
   "source": [
    "The downloaded corpus and the sample clinical note"
   ]
  },
  {
   "cell_type": "code",
   "execution_count": 9,
   "metadata": {},
   "outputs": [],
   "source": [
    "#Corpus on which the model is trained\n",
    "bc5_model = \"en_ner_bc5cdr_md\"\n",
    "#Sample clinical note\n",
    "clinical_note=\"Patient is a 60 year old having difficuly in breathing. \\\n",
    "Not diabetic. \\\n",
    "He feels that he has been in good health until this current episode. \\\n",
    "Appetite - good. No chest pain. \\\n",
    "No weight loss or episodes of stomach pain. \\\n",
    "Hypertension absent.\\\n",
    "\""
   ]
  },
  {
   "cell_type": "markdown",
   "metadata": {},
   "source": [
    "Negation Entity Extraction"
   ]
  },
  {
   "cell_type": "code",
   "execution_count": 10,
   "metadata": {},
   "outputs": [],
   "source": [
    "#Adding a new pipeline component to identify negation\n",
    "def negation_model(nlp_model):\n",
    "    nlp = spacy.load(nlp_model)\n",
    "    negex = Negex(nlp)\n",
    "    nlp.add_pipe(negex)\n",
    "    return nlp\n",
    "\n",
    "#Identifying negation entities\n",
    "def get_negation_entities(nlp_model, text, negation_model):\n",
    "    results = []\n",
    "    #Set up negex in the pipeline\n",
    "    nlp = negation_model(nlp_model)\n",
    "    #Split up the note into sentences (use . as the delimiter)\n",
    "    text = text.split(\".\")\n",
    "    \n",
    "    #Aggregate all the negative entities in a list\n",
    "    for sentence in text:\n",
    "        doc = nlp(sentence)\n",
    "        for e in doc.ents:\n",
    "            test = str(e._.negex)\n",
    "            if test == \"True\":\n",
    "                results.append(e.text)\n",
    "    return results"
   ]
  },
  {
   "cell_type": "code",
   "execution_count": 11,
   "metadata": {},
   "outputs": [
    {
     "name": "stdout",
     "output_type": "stream",
     "text": [
      "['diabetic', 'chest pain', 'weight loss', 'stomach pain']\n"
     ]
    }
   ],
   "source": [
    "#Get the list of negative entities from clinical note identified\n",
    "final_results = get_negation_entities(bc5_model, clinical_note, negation_model)\n",
    "\n",
    "#Print the list of negative identities\n",
    "print(final_results)"
   ]
  },
  {
   "cell_type": "code",
   "execution_count": null,
   "metadata": {},
   "outputs": [],
   "source": []
  }
 ],
 "metadata": {
  "kernelspec": {
   "display_name": "Python 3",
   "language": "python",
   "name": "python3"
  },
  "language_info": {
   "codemirror_mode": {
    "name": "ipython",
    "version": 3
   },
   "file_extension": ".py",
   "mimetype": "text/x-python",
   "name": "python",
   "nbconvert_exporter": "python",
   "pygments_lexer": "ipython3",
   "version": "3.7.1"
  }
 },
 "nbformat": 4,
 "nbformat_minor": 2
}
