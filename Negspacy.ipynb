{
 "cells": [
  {
   "cell_type": "code",
   "execution_count": 14,
   "metadata": {},
   "outputs": [],
   "source": [
    "import spacy\n",
    "from negspacy.negation import Negex"
   ]
  },
  {
   "cell_type": "markdown",
   "metadata": {},
   "source": [
    "!pip install spacy\n",
    "!pip install negspacy\n",
    "!pip install <Model URL> 'en_ner_bc5cdr_md'\n",
    "\n",
    "#<Model URL>: https://s3-us-west-2.amazonaws.com/ai2-s2-scispacy/releases/v0.3.0/en_ner_bc5cdr_md-0.3.0.tar.gz"
   ]
  },
  {
   "cell_type": "markdown",
   "metadata": {},
   "source": [
    "Load spacy language model. Add negspacy pipeline object. Filtering on entity types is optional."
   ]
  },
  {
   "cell_type": "code",
   "execution_count": 20,
   "metadata": {},
   "outputs": [],
   "source": [
    "bc5_model = \"en_ner_bc5cdr_md\"\n",
    "sp_bc5_model = spacy.load(\"en_ner_bc5cdr_md\")\n",
    "clinical_note=\"Patient is a 60 year old having difficuly in breathing. \\\n",
    "Not diabetic. \\\n",
    "He feels that he has been in good health until this current episode. \\\n",
    "Appetite - good. No chest pain. \\\n",
    "No weight loss or episodes of stomach pain. \\\n",
    "Hypertension absent.\\\n",
    "\"\n",
    "clinical_note_3=\"Patient resting in bed. Patient given azithromycin without any difficulty. Patient has audible wheezing, \\\n",
    "states chest tightness. No evidence of hypertension.\\\n",
    "Patient denies nausea at this time. zofran declined. Patient is also having intermittent sweating associated with pneumonia. \\\n",
    "Patient refused pain but tylenol still given. Neither substance abuse nor alcohol use however cocaine once used in the last year. Alcoholism unlikely.\\\n",
    "Patient has headache and fever. Patient is not diabetic. \\\n",
    "No signs of diarrhea. Lab reports confirm lymphocytopenia. Cardaic rhythm is Sinus bradycardia. \\\n",
    "Patient also has a history of cardiac injury. No kidney injury reported. No abnormal rashes or ulcers. \\\n",
    "Patient might not have liver disease. Confirmed absence of hemoptysis. Although patient has severe pneumonia and fever \\\n",
    ", test reports are negative for COVID-19 infection. COVID-19 viral infection absent.\""
   ]
  },
  {
   "cell_type": "markdown",
   "metadata": {},
   "source": [
    "base_model = \"en_core_web_sm\"\n",
    "sci_model = \"en_core_sci_sm\"\n",
    "sp_base_model = spacy.load(\"en_core_web_sm\")\n",
    "sp_sci_model = spacy.load(\"en_core_sci_sm\")\n",
    "sp_bc5_model = spacy.load(\"en_ner_bc5cdr_md\")\n",
    "clinical_note_1=\"The patient is a 77-year-old female who is unable to give any information. She has been sedated with Ativan and came into the emergency room obtunded and unable to give any history. On a chest x-ray for what appeared to be shortness of breath she was found to have what was thought to be free air under the right diaphragm.\"\n",
    "clinical_note_2 = \"She patient is a 71-year-old female patient of Dr. X. The patient presented to the emergency room last evening with approximately 7- to 8-day history of abdominal pain which has been persistent. She was seen 3 to 4 days ago at ABC ER and underwent evaluation and discharged and had a CT scan at that time and she was told it was normal. She was given oral antibiotics of Cipro and Flagyl. She has had no nausea and vomiting, but has had persistent associated anorexia. She is passing flatus, but had some obstipation symptoms with the last bowel movement two days ago. She denies any bright red blood per rectum and no history of recent melena. Her last colonoscopy was approximately 5 years ago with Dr. Y. She has had no definite fevers or chills and no history of jaundice. The patient denies any significant recent weight loss.\""
   ]
  },
  {
   "cell_type": "markdown",
   "metadata": {},
   "source": [
    "#Lemmatizer - capture all forms of negation(e.g., deny: denies, denying)"
   ]
  },
  {
   "cell_type": "markdown",
   "metadata": {},
   "source": [
    "def lemmatize(note, nlp):\n",
    "    doc = nlp(note)\n",
    "    lemNote = [wd.lemma_ for wd in doc]\n",
    "    return \" \".join(lemNote)\n",
    "lem_clinical_note= lemmatize(clinical_note_2, sp_bc5_model)\n",
    "print(lem_clinical_note)\n",
    "\n",
    "#creating a doc object using BC5CDR model\n",
    "doc = sp_bc5_model(lem_clinical_note)"
   ]
  },
  {
   "cell_type": "markdown",
   "metadata": {},
   "source": [
    "Named Entity Extraction"
   ]
  },
  {
   "cell_type": "markdown",
   "metadata": {},
   "source": [
    "#function to modify options for displacy NER visualization\n",
    "def get_entity_options():\n",
    "    entities = [\"DISEASE\", \"CHEMICAL\", \"NEG_ENTITY\"]\n",
    "    colors = {'DISEASE': 'linear-gradient(180deg, #66ffcc, #abf763)', 'CHEMICAL': 'linear-gradient(90deg, #aa9cfc, #fc9ce7)', \"NEG_ENTITY\":'linear-gradient(90deg, #ffff66, #ff6600)'}\n",
    "    #entities = [\"PERSON\", \"DISEASE\"]\n",
    "    #colors = {'PERSON': 'linear-gradient(180deg, #66ffcc, #abf763)', \"DISEASE\":'linear-gradient(90deg, #ffff66, #ff6600)'}\n",
    "    options = {\"ents\": entities, \"colors\": colors}    \n",
    "    return options\n",
    "\n",
    "options = get_entity_options()\n",
    "    \n",
    "#visualizing identified Named Entities in clinical input text \n",
    "displacy.render(doc, style='ent', options=options)\n"
   ]
  },
  {
   "cell_type": "markdown",
   "metadata": {},
   "source": [
    "negex = Negex(nlp_model, language = 'en_clinical_sensitive', chunk_prefix = [\"no\"])\n",
    "\n",
    "for e in doc.ents:\n",
    "\tprint(e.text, e._.negex)"
   ]
  },
  {
   "cell_type": "markdown",
   "metadata": {},
   "source": [
    "Negative Feature Extraction"
   ]
  },
  {
   "cell_type": "code",
   "execution_count": 21,
   "metadata": {},
   "outputs": [
    {
     "name": "stdout",
     "output_type": "stream",
     "text": [
      "['diabetic', 'chest pain', 'weight loss', 'stomach pain', 'Hypertension']\n"
     ]
    }
   ],
   "source": [
    "#Adding a new pipeline component to identify negation\n",
    "def negation_model(nlp_model):\n",
    "    nlp = spacy.load(nlp_model)\n",
    "    negex = Negex(nlp)\n",
    "    #adding a following pattern\n",
    "    negex.following_patterns += [nlp('absent')]\n",
    "    following_update = [i.text for i in negex.following_patterns]\n",
    "    #Updating Negex  \n",
    "    negex = Negex(nlp, following_negations= following_update)\n",
    "    nlp.add_pipe(negex)\n",
    "    return nlp\n",
    "\n",
    "#Identifying negation entities\n",
    "def get_negation_entities(nlp_model, text, negation_model):\n",
    "    results = []\n",
    "    #Set up negex in the pipeline\n",
    "    nlp = negation_model(nlp_model)\n",
    "    #Split up the note into sentences (use . as the delimiter)\n",
    "    text = text.split(\".\")\n",
    "    \n",
    "    #Aggregate all the negative entities in a list\n",
    "    for sentence in text:\n",
    "        doc = nlp(sentence)\n",
    "        for e in doc.ents:\n",
    "            rs = str(e._.negex)\n",
    "            if rs == \"True\":\n",
    "                results.append(e.text)\n",
    "    return results\n",
    "\n",
    "#Get the list of negative entities from clinical note identified\n",
    "final_results = get_negation_entities(bc5_model, clinical_note, negation_model)\n",
    "\n",
    "#Print the list of negative identities\n",
    "print(final_results)"
   ]
  },
  {
   "cell_type": "markdown",
   "metadata": {},
   "source": [
    "#function to identify span objects of matched megative phrases from clinical note\n",
    "def match(nlp,terms,label):\n",
    "        patterns = [nlp.make_doc(text) for text in terms]\n",
    "        matcher = PhraseMatcher(nlp.vocab)\n",
    "        matcher.add(label, None, *patterns)\n",
    "        return matcher\n",
    "#replacing the labels for identified negative entities\n",
    "def overwrite_ent_lbl(matcher, doc):\n",
    "    matches = matcher(doc)\n",
    "    seen_tokens = set()\n",
    "    new_entities = []\n",
    "    entities = doc.ents\n",
    "    for match_id, start, end in matches:\n",
    "        if start not in seen_tokens and end - 1 not in seen_tokens:\n",
    "            new_entities.append(Span(doc, start, end, label=match_id))\n",
    "            entities = [\n",
    "                e for e in entities if not (e.start < end and e.end > start)\n",
    "            ]\n",
    "            seen_tokens.update(range(start, end))\n",
    "    doc.ents = tuple(entities) + tuple(new_entities)\n",
    "    return doc\n",
    "matcher = match(nlp1_model, results0,\"NEG_ENTITY\")\n",
    "#doc0: new doc object with added \"NEG_ENTITY label\"\n",
    "doc0 = overwrite_ent_lbl(matcher,doc)\n",
    "#visualizing identified Named Entities in clinical input text \n",
    "displacy.render(doc0, style='ent', options=options)"
   ]
  },
  {
   "cell_type": "code",
   "execution_count": 35,
   "metadata": {},
   "outputs": [
    {
     "name": "stdout",
     "output_type": "stream",
     "text": [
      "[diabetic, appetite, chest pain, weight loss, stomach pain, back ache]\n"
     ]
    },
    {
     "ename": "TypeError",
     "evalue": "print() argument after * must be an iterable, not spacy.matcher.phrasematcher.PhraseMatcher",
     "output_type": "error",
     "traceback": [
      "\u001b[1;31m---------------------------------------------------------------------------\u001b[0m",
      "\u001b[1;31mTypeError\u001b[0m                                 Traceback (most recent call last)",
      "\u001b[1;32m<ipython-input-35-59e9931b3591>\u001b[0m in \u001b[0;36m<module>\u001b[1;34m\u001b[0m\n\u001b[0;32m      9\u001b[0m \u001b[1;33m\u001b[0m\u001b[0m\n\u001b[0;32m     10\u001b[0m \u001b[1;31m#atcher = match(nlp1, final_results,\"NEG_ENTITY\")\u001b[0m\u001b[1;33m\u001b[0m\u001b[1;33m\u001b[0m\u001b[1;33m\u001b[0m\u001b[0m\n\u001b[1;32m---> 11\u001b[1;33m \u001b[0mmatcher\u001b[0m \u001b[1;33m=\u001b[0m \u001b[0mmatch\u001b[0m\u001b[1;33m(\u001b[0m\u001b[0msp_bc5_model\u001b[0m\u001b[1;33m,\u001b[0m \u001b[0mfinal_results\u001b[0m\u001b[1;33m,\u001b[0m \u001b[1;34m\"NEG_ENTITY\"\u001b[0m\u001b[1;33m)\u001b[0m\u001b[1;33m\u001b[0m\u001b[1;33m\u001b[0m\u001b[0m\n\u001b[0m\u001b[0;32m     12\u001b[0m \u001b[1;33m\u001b[0m\u001b[0m\n\u001b[0;32m     13\u001b[0m \u001b[1;31m#doc0: new doc object with added \"NEG_ENTITY label\"\u001b[0m\u001b[1;33m\u001b[0m\u001b[1;33m\u001b[0m\u001b[1;33m\u001b[0m\u001b[0m\n",
      "\u001b[1;32m<ipython-input-35-59e9931b3591>\u001b[0m in \u001b[0;36mmatch\u001b[1;34m(nlp, terms, label)\u001b[0m\n\u001b[0;32m      5\u001b[0m         \u001b[0mmatcher\u001b[0m \u001b[1;33m=\u001b[0m \u001b[0mPhraseMatcher\u001b[0m\u001b[1;33m(\u001b[0m\u001b[0mnlp\u001b[0m\u001b[1;33m.\u001b[0m\u001b[0mvocab\u001b[0m\u001b[1;33m)\u001b[0m\u001b[1;33m\u001b[0m\u001b[1;33m\u001b[0m\u001b[0m\n\u001b[0;32m      6\u001b[0m         \u001b[0mmatcher\u001b[0m\u001b[1;33m.\u001b[0m\u001b[0madd\u001b[0m\u001b[1;33m(\u001b[0m\u001b[0mlabel\u001b[0m\u001b[1;33m,\u001b[0m \u001b[1;32mNone\u001b[0m\u001b[1;33m,\u001b[0m \u001b[1;33m*\u001b[0m\u001b[0mpatterns\u001b[0m\u001b[1;33m)\u001b[0m\u001b[1;33m\u001b[0m\u001b[1;33m\u001b[0m\u001b[0m\n\u001b[1;32m----> 7\u001b[1;33m         \u001b[0mprint\u001b[0m\u001b[1;33m(\u001b[0m\u001b[1;33m*\u001b[0m\u001b[0mmatcher\u001b[0m\u001b[1;33m)\u001b[0m\u001b[1;33m\u001b[0m\u001b[1;33m\u001b[0m\u001b[0m\n\u001b[0m\u001b[0;32m      8\u001b[0m         \u001b[1;32mreturn\u001b[0m \u001b[0mmatcher\u001b[0m\u001b[1;33m\u001b[0m\u001b[1;33m\u001b[0m\u001b[0m\n\u001b[0;32m      9\u001b[0m \u001b[1;33m\u001b[0m\u001b[0m\n",
      "\u001b[1;31mTypeError\u001b[0m: print() argument after * must be an iterable, not spacy.matcher.phrasematcher.PhraseMatcher"
     ]
    }
   ],
   "source": [
    "#function to identify span objects of matched megative phrases from clinical note\n",
    "def match(nlp,terms,label):\n",
    "        patterns = [nlp.make_doc(text) for text in terms]\n",
    "        print(patterns)\n",
    "        matcher = PhraseMatcher(nlp.vocab)\n",
    "        matcher.add(label, None, *patterns)\n",
    "        print(matcher)\n",
    "        return matcher\n",
    "\n",
    "#atcher = match(nlp1, final_results,\"NEG_ENTITY\")\n",
    "matcher = match(sp_bc5_model, final_results, \"NEG_ENTITY\")\n",
    "\n",
    "#doc0: new doc object with added \"NEG_ENTITY label\"\n",
    "#doc0 = overwrite_ent_lbl(matcher,doc)"
   ]
  },
  {
   "cell_type": "code",
   "execution_count": 50,
   "metadata": {},
   "outputs": [
    {
     "name": "stdout",
     "output_type": "stream",
     "text": [
      "yellow fabric\n",
      "[]\n"
     ]
    }
   ],
   "source": [
    "base_model = \"en_core_web_sm\"\n",
    "sp_base_model = spacy.load(\"en_core_web_sm\")\n",
    "doc = sp_base_model(\"yellow fabric\")\n",
    "print(doc)\n",
    "matches = matcher(doc)\n",
    "print(matches)\n",
    "for match_id, start, end in matches:\n",
    "    print(start,end)\n",
    "    rule_id = nlp.vocab.strings[match_id]  # get the unicode ID, i.e. 'COLOR'\n",
    "    span = doc[start : end]  # get the matched slice of the doc\n",
    "    print(rule_id, span.text)"
   ]
  },
  {
   "cell_type": "code",
   "execution_count": 58,
   "metadata": {},
   "outputs": [
    {
     "data": {
      "text/html": [
       "<span class=\"tex2jax_ignore\"><div class=\"entities\" style=\"line-height: 2.5; direction: ltr\">Patient resting in bed. Patient given \n",
       "<mark class=\"entity\" style=\"background: linear-gradient(90deg, #aa9cfc, #fc9ce7); padding: 0.45em 0.6em; margin: 0 0.25em; line-height: 1; border-radius: 0.35em;\">\n",
       "    azithromycin\n",
       "    <span style=\"font-size: 0.8em; font-weight: bold; line-height: 1; border-radius: 0.35em; text-transform: uppercase; vertical-align: middle; margin-left: 0.5rem\">CHEMICAL</span>\n",
       "</mark>\n",
       " without any difficulty. Patient has audible \n",
       "<mark class=\"entity\" style=\"background: linear-gradient(180deg, #66ffcc, #abf763); padding: 0.45em 0.6em; margin: 0 0.25em; line-height: 1; border-radius: 0.35em;\">\n",
       "    wheezing\n",
       "    <span style=\"font-size: 0.8em; font-weight: bold; line-height: 1; border-radius: 0.35em; text-transform: uppercase; vertical-align: middle; margin-left: 0.5rem\">DISEASE</span>\n",
       "</mark>\n",
       ", states \n",
       "<mark class=\"entity\" style=\"background: linear-gradient(180deg, #66ffcc, #abf763); padding: 0.45em 0.6em; margin: 0 0.25em; line-height: 1; border-radius: 0.35em;\">\n",
       "    chest tightness\n",
       "    <span style=\"font-size: 0.8em; font-weight: bold; line-height: 1; border-radius: 0.35em; text-transform: uppercase; vertical-align: middle; margin-left: 0.5rem\">DISEASE</span>\n",
       "</mark>\n",
       ". No evidence of \n",
       "<mark class=\"entity\" style=\"background: linear-gradient(180deg, #66ffcc, #abf763); padding: 0.45em 0.6em; margin: 0 0.25em; line-height: 1; border-radius: 0.35em;\">\n",
       "    hypertension\n",
       "    <span style=\"font-size: 0.8em; font-weight: bold; line-height: 1; border-radius: 0.35em; text-transform: uppercase; vertical-align: middle; margin-left: 0.5rem\">DISEASE</span>\n",
       "</mark>\n",
       ".Patient denies \n",
       "<mark class=\"entity\" style=\"background: linear-gradient(180deg, #66ffcc, #abf763); padding: 0.45em 0.6em; margin: 0 0.25em; line-height: 1; border-radius: 0.35em;\">\n",
       "    nausea\n",
       "    <span style=\"font-size: 0.8em; font-weight: bold; line-height: 1; border-radius: 0.35em; text-transform: uppercase; vertical-align: middle; margin-left: 0.5rem\">DISEASE</span>\n",
       "</mark>\n",
       " at this time. \n",
       "<mark class=\"entity\" style=\"background: linear-gradient(90deg, #aa9cfc, #fc9ce7); padding: 0.45em 0.6em; margin: 0 0.25em; line-height: 1; border-radius: 0.35em;\">\n",
       "    zofran\n",
       "    <span style=\"font-size: 0.8em; font-weight: bold; line-height: 1; border-radius: 0.35em; text-transform: uppercase; vertical-align: middle; margin-left: 0.5rem\">CHEMICAL</span>\n",
       "</mark>\n",
       " declined. Patient is also having \n",
       "<mark class=\"entity\" style=\"background: linear-gradient(180deg, #66ffcc, #abf763); padding: 0.45em 0.6em; margin: 0 0.25em; line-height: 1; border-radius: 0.35em;\">\n",
       "    intermittent sweating\n",
       "    <span style=\"font-size: 0.8em; font-weight: bold; line-height: 1; border-radius: 0.35em; text-transform: uppercase; vertical-align: middle; margin-left: 0.5rem\">DISEASE</span>\n",
       "</mark>\n",
       " associated with \n",
       "<mark class=\"entity\" style=\"background: linear-gradient(180deg, #66ffcc, #abf763); padding: 0.45em 0.6em; margin: 0 0.25em; line-height: 1; border-radius: 0.35em;\">\n",
       "    pneumonia\n",
       "    <span style=\"font-size: 0.8em; font-weight: bold; line-height: 1; border-radius: 0.35em; text-transform: uppercase; vertical-align: middle; margin-left: 0.5rem\">DISEASE</span>\n",
       "</mark>\n",
       ". Patient refused \n",
       "<mark class=\"entity\" style=\"background: linear-gradient(180deg, #66ffcc, #abf763); padding: 0.45em 0.6em; margin: 0 0.25em; line-height: 1; border-radius: 0.35em;\">\n",
       "    pain\n",
       "    <span style=\"font-size: 0.8em; font-weight: bold; line-height: 1; border-radius: 0.35em; text-transform: uppercase; vertical-align: middle; margin-left: 0.5rem\">DISEASE</span>\n",
       "</mark>\n",
       " but \n",
       "<mark class=\"entity\" style=\"background: linear-gradient(90deg, #aa9cfc, #fc9ce7); padding: 0.45em 0.6em; margin: 0 0.25em; line-height: 1; border-radius: 0.35em;\">\n",
       "    tylenol\n",
       "    <span style=\"font-size: 0.8em; font-weight: bold; line-height: 1; border-radius: 0.35em; text-transform: uppercase; vertical-align: middle; margin-left: 0.5rem\">CHEMICAL</span>\n",
       "</mark>\n",
       " still given. Neither \n",
       "<mark class=\"entity\" style=\"background: linear-gradient(180deg, #66ffcc, #abf763); padding: 0.45em 0.6em; margin: 0 0.25em; line-height: 1; border-radius: 0.35em;\">\n",
       "    substance abuse\n",
       "    <span style=\"font-size: 0.8em; font-weight: bold; line-height: 1; border-radius: 0.35em; text-transform: uppercase; vertical-align: middle; margin-left: 0.5rem\">DISEASE</span>\n",
       "</mark>\n",
       " nor \n",
       "<mark class=\"entity\" style=\"background: linear-gradient(90deg, #aa9cfc, #fc9ce7); padding: 0.45em 0.6em; margin: 0 0.25em; line-height: 1; border-radius: 0.35em;\">\n",
       "    alcohol\n",
       "    <span style=\"font-size: 0.8em; font-weight: bold; line-height: 1; border-radius: 0.35em; text-transform: uppercase; vertical-align: middle; margin-left: 0.5rem\">CHEMICAL</span>\n",
       "</mark>\n",
       " use however \n",
       "<mark class=\"entity\" style=\"background: linear-gradient(90deg, #aa9cfc, #fc9ce7); padding: 0.45em 0.6em; margin: 0 0.25em; line-height: 1; border-radius: 0.35em;\">\n",
       "    cocaine\n",
       "    <span style=\"font-size: 0.8em; font-weight: bold; line-height: 1; border-radius: 0.35em; text-transform: uppercase; vertical-align: middle; margin-left: 0.5rem\">CHEMICAL</span>\n",
       "</mark>\n",
       " once used in the last year. Alcoholism unlikely.Patient has \n",
       "<mark class=\"entity\" style=\"background: linear-gradient(180deg, #66ffcc, #abf763); padding: 0.45em 0.6em; margin: 0 0.25em; line-height: 1; border-radius: 0.35em;\">\n",
       "    headache\n",
       "    <span style=\"font-size: 0.8em; font-weight: bold; line-height: 1; border-radius: 0.35em; text-transform: uppercase; vertical-align: middle; margin-left: 0.5rem\">DISEASE</span>\n",
       "</mark>\n",
       " and \n",
       "<mark class=\"entity\" style=\"background: linear-gradient(180deg, #66ffcc, #abf763); padding: 0.45em 0.6em; margin: 0 0.25em; line-height: 1; border-radius: 0.35em;\">\n",
       "    fever\n",
       "    <span style=\"font-size: 0.8em; font-weight: bold; line-height: 1; border-radius: 0.35em; text-transform: uppercase; vertical-align: middle; margin-left: 0.5rem\">DISEASE</span>\n",
       "</mark>\n",
       ". Patient is not \n",
       "<mark class=\"entity\" style=\"background: linear-gradient(180deg, #66ffcc, #abf763); padding: 0.45em 0.6em; margin: 0 0.25em; line-height: 1; border-radius: 0.35em;\">\n",
       "    diabetic\n",
       "    <span style=\"font-size: 0.8em; font-weight: bold; line-height: 1; border-radius: 0.35em; text-transform: uppercase; vertical-align: middle; margin-left: 0.5rem\">DISEASE</span>\n",
       "</mark>\n",
       ". No signs of \n",
       "<mark class=\"entity\" style=\"background: linear-gradient(180deg, #66ffcc, #abf763); padding: 0.45em 0.6em; margin: 0 0.25em; line-height: 1; border-radius: 0.35em;\">\n",
       "    diarrhea\n",
       "    <span style=\"font-size: 0.8em; font-weight: bold; line-height: 1; border-radius: 0.35em; text-transform: uppercase; vertical-align: middle; margin-left: 0.5rem\">DISEASE</span>\n",
       "</mark>\n",
       ". Lab reports confirm \n",
       "<mark class=\"entity\" style=\"background: linear-gradient(180deg, #66ffcc, #abf763); padding: 0.45em 0.6em; margin: 0 0.25em; line-height: 1; border-radius: 0.35em;\">\n",
       "    lymphocytopenia\n",
       "    <span style=\"font-size: 0.8em; font-weight: bold; line-height: 1; border-radius: 0.35em; text-transform: uppercase; vertical-align: middle; margin-left: 0.5rem\">DISEASE</span>\n",
       "</mark>\n",
       ". Cardaic rhythm is \n",
       "<mark class=\"entity\" style=\"background: linear-gradient(180deg, #66ffcc, #abf763); padding: 0.45em 0.6em; margin: 0 0.25em; line-height: 1; border-radius: 0.35em;\">\n",
       "    Sinus bradycardia\n",
       "    <span style=\"font-size: 0.8em; font-weight: bold; line-height: 1; border-radius: 0.35em; text-transform: uppercase; vertical-align: middle; margin-left: 0.5rem\">DISEASE</span>\n",
       "</mark>\n",
       ". Patient also has a history of \n",
       "<mark class=\"entity\" style=\"background: linear-gradient(180deg, #66ffcc, #abf763); padding: 0.45em 0.6em; margin: 0 0.25em; line-height: 1; border-radius: 0.35em;\">\n",
       "    cardiac injury\n",
       "    <span style=\"font-size: 0.8em; font-weight: bold; line-height: 1; border-radius: 0.35em; text-transform: uppercase; vertical-align: middle; margin-left: 0.5rem\">DISEASE</span>\n",
       "</mark>\n",
       ". No \n",
       "<mark class=\"entity\" style=\"background: linear-gradient(180deg, #66ffcc, #abf763); padding: 0.45em 0.6em; margin: 0 0.25em; line-height: 1; border-radius: 0.35em;\">\n",
       "    kidney injury\n",
       "    <span style=\"font-size: 0.8em; font-weight: bold; line-height: 1; border-radius: 0.35em; text-transform: uppercase; vertical-align: middle; margin-left: 0.5rem\">DISEASE</span>\n",
       "</mark>\n",
       " reported. No \n",
       "<mark class=\"entity\" style=\"background: linear-gradient(180deg, #66ffcc, #abf763); padding: 0.45em 0.6em; margin: 0 0.25em; line-height: 1; border-radius: 0.35em;\">\n",
       "    abnormal rashes\n",
       "    <span style=\"font-size: 0.8em; font-weight: bold; line-height: 1; border-radius: 0.35em; text-transform: uppercase; vertical-align: middle; margin-left: 0.5rem\">DISEASE</span>\n",
       "</mark>\n",
       " or \n",
       "<mark class=\"entity\" style=\"background: linear-gradient(180deg, #66ffcc, #abf763); padding: 0.45em 0.6em; margin: 0 0.25em; line-height: 1; border-radius: 0.35em;\">\n",
       "    ulcers\n",
       "    <span style=\"font-size: 0.8em; font-weight: bold; line-height: 1; border-radius: 0.35em; text-transform: uppercase; vertical-align: middle; margin-left: 0.5rem\">DISEASE</span>\n",
       "</mark>\n",
       ". Patient might not have \n",
       "<mark class=\"entity\" style=\"background: linear-gradient(180deg, #66ffcc, #abf763); padding: 0.45em 0.6em; margin: 0 0.25em; line-height: 1; border-radius: 0.35em;\">\n",
       "    liver disease\n",
       "    <span style=\"font-size: 0.8em; font-weight: bold; line-height: 1; border-radius: 0.35em; text-transform: uppercase; vertical-align: middle; margin-left: 0.5rem\">DISEASE</span>\n",
       "</mark>\n",
       ". Confirmed absence of \n",
       "<mark class=\"entity\" style=\"background: linear-gradient(180deg, #66ffcc, #abf763); padding: 0.45em 0.6em; margin: 0 0.25em; line-height: 1; border-radius: 0.35em;\">\n",
       "    hemoptysis\n",
       "    <span style=\"font-size: 0.8em; font-weight: bold; line-height: 1; border-radius: 0.35em; text-transform: uppercase; vertical-align: middle; margin-left: 0.5rem\">DISEASE</span>\n",
       "</mark>\n",
       ". Although patient has severe \n",
       "<mark class=\"entity\" style=\"background: linear-gradient(180deg, #66ffcc, #abf763); padding: 0.45em 0.6em; margin: 0 0.25em; line-height: 1; border-radius: 0.35em;\">\n",
       "    pneumonia\n",
       "    <span style=\"font-size: 0.8em; font-weight: bold; line-height: 1; border-radius: 0.35em; text-transform: uppercase; vertical-align: middle; margin-left: 0.5rem\">DISEASE</span>\n",
       "</mark>\n",
       " and \n",
       "<mark class=\"entity\" style=\"background: linear-gradient(180deg, #66ffcc, #abf763); padding: 0.45em 0.6em; margin: 0 0.25em; line-height: 1; border-radius: 0.35em;\">\n",
       "    fever\n",
       "    <span style=\"font-size: 0.8em; font-weight: bold; line-height: 1; border-radius: 0.35em; text-transform: uppercase; vertical-align: middle; margin-left: 0.5rem\">DISEASE</span>\n",
       "</mark>\n",
       " , test reports are negative for COVID-19 \n",
       "<mark class=\"entity\" style=\"background: linear-gradient(180deg, #66ffcc, #abf763); padding: 0.45em 0.6em; margin: 0 0.25em; line-height: 1; border-radius: 0.35em;\">\n",
       "    infection\n",
       "    <span style=\"font-size: 0.8em; font-weight: bold; line-height: 1; border-radius: 0.35em; text-transform: uppercase; vertical-align: middle; margin-left: 0.5rem\">DISEASE</span>\n",
       "</mark>\n",
       ". COVID-19 \n",
       "<mark class=\"entity\" style=\"background: linear-gradient(180deg, #66ffcc, #abf763); padding: 0.45em 0.6em; margin: 0 0.25em; line-height: 1; border-radius: 0.35em;\">\n",
       "    viral infection\n",
       "    <span style=\"font-size: 0.8em; font-weight: bold; line-height: 1; border-radius: 0.35em; text-transform: uppercase; vertical-align: middle; margin-left: 0.5rem\">DISEASE</span>\n",
       "</mark>\n",
       " absent.</div></span>"
      ],
      "text/plain": [
       "<IPython.core.display.HTML object>"
      ]
     },
     "metadata": {},
     "output_type": "display_data"
    }
   ],
   "source": [
    "#function to modify options for displacy NER visualization\n",
    "def get_entity_options():\n",
    "    entities = [\"DISEASE\", \"CHEMICAL\", \"NEG_ENTITY\"]\n",
    "    colors = {'DISEASE': 'linear-gradient(180deg, #66ffcc, #abf763)', 'CHEMICAL': 'linear-gradient(90deg, #aa9cfc, #fc9ce7)', \"NEG_ENTITY\":'linear-gradient(90deg, #ffff66, #ff6600)'}\n",
    "    options = {\"ents\": entities, \"colors\": colors}    \n",
    "    return options\n",
    "options = get_entity_options()\n",
    "doc = sp_bc5_model(clinical_note_3)\n",
    "#visualizing identified Named Entities in clinical input text \n",
    "displacy.render(doc, style='ent', options=options)"
   ]
  },
  {
   "cell_type": "code",
   "execution_count": null,
   "metadata": {},
   "outputs": [],
   "source": []
  }
 ],
 "metadata": {
  "kernelspec": {
   "display_name": "Python 3",
   "language": "python",
   "name": "python3"
  },
  "language_info": {
   "codemirror_mode": {
    "name": "ipython",
    "version": 3
   },
   "file_extension": ".py",
   "mimetype": "text/x-python",
   "name": "python",
   "nbconvert_exporter": "python",
   "pygments_lexer": "ipython3",
   "version": "3.7.1"
  }
 },
 "nbformat": 4,
 "nbformat_minor": 2
}
